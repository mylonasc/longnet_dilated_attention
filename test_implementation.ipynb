{
 "cells": [
  {
   "cell_type": "markdown",
   "id": "b60c494a-aa79-4950-81cc-b5397b2de958",
   "metadata": {},
   "source": [
    "## `PyTorch` implementation of the `LongNet` dilated attention\n",
    "Dilated attention is a trick for greatly expanding the context legth of transformers.\n",
    "It slices the input in segments and performs \"dilated\" selections for each multi-head attention block, \n",
    "in order to create a hierarchy of heads that attend to progressively more context while not incurring the quadradic memory \n",
    "and computational overhead of the self-attention layers.\n",
    "\n",
    "## TODO:\n",
    "* finish writing longnet transformer \n",
    "* make some first tests on lim. data\n",
    "* Use for distillation"
   ]
  },
  {
   "cell_type": "code",
   "execution_count": 1,
   "id": "b58a7e00-2972-41ae-b794-5d85a8008cbf",
   "metadata": {},
   "outputs": [],
   "source": [
    "\n",
    "from src.dilated_attention import MultiHeadDilatedAttention, DilatedTransformerBlock"
   ]
  },
  {
   "cell_type": "code",
   "execution_count": 2,
   "id": "f18b7f6b",
   "metadata": {},
   "outputs": [],
   "source": [
    "device = 'cuda:0'\n",
    "nheads = 16\n",
    "dilation_schedule = [1,  1, 2  ,2,  4]\n",
    "segment_schedule =  [128,256,512,512,512]\n",
    "model = DilatedTransformerBlock(\n",
    "    segment_schedule = segment_schedule,\n",
    "    dilation_schedule = dilation_schedule,\n",
    "    device = device\n",
    ")"
   ]
  },
  {
   "cell_type": "code",
   "execution_count": 3,
   "id": "d8e1010f",
   "metadata": {},
   "outputs": [],
   "source": [
    "import torch\n",
    "class LongNetEncoder(torch.nn.Module):\n",
    "    def __init__(\n",
    "        self,\n",
    "        n_layers = 8,\n",
    "        dilation_schedule = dilation_schedule, \n",
    "        segment_schedule = segment_schedule, \n",
    "        emb_params = {'num_embeddings' : 1024, 'embedding_dim' : 768},\n",
    "        device = None\n",
    "    ):\n",
    "        super(LongNetEncoder, self).__init__()\n",
    "        self.dilation_schedule = dilation_schedule \n",
    "        \n",
    "        self.segment_schedule = segment_schedule\n",
    "        self.n_layers = 16\n",
    "        self._is_built = False\n",
    "        self.device = device \n",
    "        self.emb_params = emb_params\n",
    "    \n",
    "    def _build(self, x_in):\n",
    "        self.blocks = torch.nn.ModuleList(\n",
    "            [\n",
    "                DilatedTransformerBlock(\n",
    "                    dilation_schedule = self.dilation_schedule,\n",
    "                    segment_schedule = self.segment_schedule,\n",
    "                    device = self.device\n",
    "                ) for i in range(self.n_layers)\n",
    "            ]\n",
    "        )\n",
    "        self.embedding = torch.nn.Embedding(**self.emb_params, device= self.device)\n",
    "        self._is_built = True\n",
    "        \n",
    "    def forward(self, x_in):\n",
    "        \"\"\"\n",
    "        x_in is an iterable with integers.\n",
    "        \"\"\"\n",
    "        if not self._is_built:\n",
    "            self._build(x_in)\n",
    "            \n",
    "        x_curr = self.embedding(x_in)\n",
    "        for m in self.blocks:\n",
    "            x_curr = m(x_curr)\n",
    "        \n",
    "        return torch.nn.functional.softmax(x_curr, 1)\n",
    "            \n",
    "\n"
   ]
  },
  {
   "cell_type": "markdown",
   "id": "44e1080c",
   "metadata": {},
   "source": [
    "---\n",
    "Instantiate a model and apply it to a long sequence\n",
    "\n",
    "a 10-block, 32-head-per self-attention block transformer is applied to a \n",
    "sequence of length 4096 for embeddings of size 768"
   ]
  },
  {
   "cell_type": "code",
   "execution_count": 4,
   "id": "db082830",
   "metadata": {},
   "outputs": [],
   "source": [
    "import numpy  as np\n",
    "model = LongNetEncoder(device = device, n_layers = 8)"
   ]
  },
  {
   "cell_type": "code",
   "execution_count": 5,
   "id": "914829f1",
   "metadata": {},
   "outputs": [],
   "source": [
    "x_in_int = torch.from_numpy(1 * (np.random.randn(8,1024*4)>1)).to(device)\n",
    "def _no_opt():\n",
    "    model(x_in_int)\n",
    "\n",
    "_no_opt()\n"
   ]
  },
  {
   "cell_type": "markdown",
   "id": "f685adf1-4605-4e53-998d-fd98dfad1286",
   "metadata": {},
   "source": [
    "---\n",
    "### Benchmarking with an RTX2080."
   ]
  },
  {
   "cell_type": "code",
   "execution_count": 6,
   "id": "8dd4918d",
   "metadata": {},
   "outputs": [
    {
     "name": "stdout",
     "output_type": "stream",
     "text": [
      "941 ms ± 2.28 ms per loop (mean ± std. dev. of 7 runs, 1 loop each)\n"
     ]
    }
   ],
   "source": [
    "%%timeit\n",
    "_no_opt()"
   ]
  },
  {
   "cell_type": "code",
   "execution_count": 7,
   "id": "c6f0c9cc-425b-4eb6-9774-72f5106c6af4",
   "metadata": {},
   "outputs": [],
   "source": [
    "@torch.compile\n",
    "def _test_perf():\n",
    "    model(x_in_int)"
   ]
  },
  {
   "cell_type": "code",
   "execution_count": 9,
   "id": "62307fff-0c74-4f9c-8d67-2e03a42e5040",
   "metadata": {},
   "outputs": [
    {
     "name": "stdout",
     "output_type": "stream",
     "text": [
      "1.31 ms ± 61.8 µs per loop (mean ± std. dev. of 7 runs, 1,000 loops each)\n"
     ]
    }
   ],
   "source": [
    "%%timeit\n",
    "_test_perf()"
   ]
  }
 ],
 "metadata": {
  "kernelspec": {
   "display_name": "Python 3 (ipykernel)",
   "language": "python",
   "name": "python3"
  },
  "language_info": {
   "codemirror_mode": {
    "name": "ipython",
    "version": 3
   },
   "file_extension": ".py",
   "mimetype": "text/x-python",
   "name": "python",
   "nbconvert_exporter": "python",
   "pygments_lexer": "ipython3",
   "version": "3.9.5"
  }
 },
 "nbformat": 4,
 "nbformat_minor": 5
}
