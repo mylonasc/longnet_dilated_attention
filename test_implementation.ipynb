{
 "cells": [
  {
   "cell_type": "markdown",
   "id": "b60c494a-aa79-4950-81cc-b5397b2de958",
   "metadata": {},
   "source": [
    "## `PyTorch` implementation of the `LongNet` dilated attention\n",
    "Dilated attention is a trick for greatly expanding the context legth of transformers.\n",
    "It slices the input in segments and performs \"dilated\" selections for each multi-head attention block, \n",
    "in order to create a hierarchy of heads that attend to progressively more context while not incurring the quadradic memory \n",
    "and computational overhead of the self-attention layers.\n",
    "\n",
    "## TODO:\n",
    "* Check if I'm normalizing correctly\n",
    "* Use for distillation"
   ]
  },
  {
   "cell_type": "code",
   "execution_count": null,
   "id": "b58a7e00-2972-41ae-b794-5d85a8008cbf",
   "metadata": {},
   "outputs": [],
   "source": [
    "from src.dilated_attention import MultiHeadDilatedAttention"
   ]
  },
  {
   "cell_type": "code",
   "execution_count": 2,
   "id": "f10ba021-921c-4673-9e6d-b9817cac9781",
   "metadata": {},
   "outputs": [],
   "source": [
    "import numpy as np\n",
    "import torch\n",
    "\n",
    "seq_len = 1024 * 8\n",
    "emb_size = 768\n"
   ]
  },
  {
   "cell_type": "code",
   "execution_count": 3,
   "id": "0c0efd67-6b55-4338-85bd-bded1f64e321",
   "metadata": {},
   "outputs": [],
   "source": [
    "device = 'cuda:0'\n",
    "x_in = torch.Tensor(np.random.randn(10, seq_len, emb_size)).to('cuda:0')\n",
    "dilation_schedule = [1,1,2,4,8,16]\n",
    "segment_sizes = [128,512,128,128,128]\n",
    "mha = MultiHeadDilatedAttention(\n",
    "    d_k = 256, dilation_schedule=dilation_schedule, segment_sizes = segment_sizes, device = device\n",
    ")"
   ]
  },
  {
   "cell_type": "markdown",
   "id": "f685adf1-4605-4e53-998d-fd98dfad1286",
   "metadata": {},
   "source": [
    "---\n",
    "### Benchmarking with an RTX2080."
   ]
  },
  {
   "cell_type": "code",
   "execution_count": 6,
   "id": "c6f0c9cc-425b-4eb6-9774-72f5106c6af4",
   "metadata": {},
   "outputs": [],
   "source": [
    "@torch.compile\n",
    "def _test_perf():\n",
    "    return mha(x_in)"
   ]
  },
  {
   "cell_type": "code",
   "execution_count": 7,
   "id": "62307fff-0c74-4f9c-8d67-2e03a42e5040",
   "metadata": {},
   "outputs": [
    {
     "name": "stdout",
     "output_type": "stream",
     "text": [
      "1.82 ms ± 120 µs per loop (mean ± std. dev. of 7 runs, 1 loop each)\n"
     ]
    }
   ],
   "source": [
    "%%timeit\n",
    "_test_perf()"
   ]
  },
  {
   "cell_type": "code",
   "execution_count": 8,
   "id": "844a24ce-7f82-4056-86c3-a07be949ed27",
   "metadata": {},
   "outputs": [
    {
     "name": "stdout",
     "output_type": "stream",
     "text": [
      "60.8 ms ± 823 µs per loop (mean ± std. dev. of 7 runs, 10 loops each)\n"
     ]
    }
   ],
   "source": [
    "%%timeit\n",
    "mha(x_in)"
   ]
  }
 ],
 "metadata": {
  "kernelspec": {
   "display_name": "Python 3 (ipykernel)",
   "language": "python",
   "name": "python3"
  },
  "language_info": {
   "codemirror_mode": {
    "name": "ipython",
    "version": 3
   },
   "file_extension": ".py",
   "mimetype": "text/x-python",
   "name": "python",
   "nbconvert_exporter": "python",
   "pygments_lexer": "ipython3",
   "version": "3.9.5"
  }
 },
 "nbformat": 4,
 "nbformat_minor": 5
}
